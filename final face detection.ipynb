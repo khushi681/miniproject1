{
 "cells": [
  {
   "cell_type": "code",
   "execution_count": 1,
   "id": "bc9b3949-0094-4543-b145-5ad0752672eb",
   "metadata": {},
   "outputs": [],
   "source": [
    "import cv2\n",
    "face_cap = cv2.CascadeClassifier(cv2.data.haarcascades + 'haarcascade_frontalface_default.xml')\n",
    "video_cap = cv2.VideoCapture(0)\n",
    "while True :#while true is a continuous loop infinite loop\n",
    "    ret , video_data = video_cap.read()\n",
    "    col = cv2.cvtColor(video_data, cv2.COLOR_BGR2GRAY)\n",
    "    faces= face_cap.detectMultiScale(\n",
    "        col,\n",
    "        scaleFactor=1.1,\n",
    "        minNeighbors=5,\n",
    "        minSize=(30,30),\n",
    "        flags=cv2.CASCADE_SCALE_IMAGE\n",
    "    )\n",
    "    for (x,y,w,h) in faces:\n",
    "        cv2.rectangle(video_data,(x,y),(x+w, x+h),(0,255,0),2)\n",
    "    cv2.imshow(\"video_live\",video_data)#it shows image , viedo_live  is the frame , video_data is the capture of imsge\n",
    "    if cv2.waitKey(10) == ord(\"a\"):#it  gives a condition to break the while loop\n",
    "        break\n",
    "video_cap.release() #this was to enable the camera\n"
   ]
  },
  {
   "cell_type": "code",
   "execution_count": null,
   "id": "1e3edab5-646b-41ef-a612-131a4546af99",
   "metadata": {},
   "outputs": [],
   "source": []
  }
 ],
 "metadata": {
  "kernelspec": {
   "display_name": "Python 3 (ipykernel)",
   "language": "python",
   "name": "python3"
  },
  "language_info": {
   "codemirror_mode": {
    "name": "ipython",
    "version": 3
   },
   "file_extension": ".py",
   "mimetype": "text/x-python",
   "name": "python",
   "nbconvert_exporter": "python",
   "pygments_lexer": "ipython3",
   "version": "3.12.7"
  }
 },
 "nbformat": 4,
 "nbformat_minor": 5
}
